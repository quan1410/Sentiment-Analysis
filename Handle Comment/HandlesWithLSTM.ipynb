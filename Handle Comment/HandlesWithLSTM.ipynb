{
 "cells": [
  {
   "cell_type": "code",
   "execution_count": 4,
   "metadata": {},
   "outputs": [
    {
     "name": "stdout",
     "output_type": "stream",
     "text": [
      "WARNING:tensorflow:From c:\\Users\\mayti\\AppData\\Local\\Programs\\Python\\Python311\\Lib\\site-packages\\keras\\src\\losses.py:2976: The name tf.losses.sparse_softmax_cross_entropy is deprecated. Please use tf.compat.v1.losses.sparse_softmax_cross_entropy instead.\n",
      "\n"
     ]
    },
    {
     "name": "stderr",
     "output_type": "stream",
     "text": [
      "[nltk_data] Downloading package punkt to\n",
      "[nltk_data]     C:\\Users\\mayti\\AppData\\Roaming\\nltk_data...\n",
      "[nltk_data]   Package punkt is already up-to-date!\n"
     ]
    }
   ],
   "source": [
    "import nltk # using textBlob and tensoflow (CNN and LSTM )\n",
    "import pprint\n",
    "import tensorflow as tf\n",
    "import pandas as pd\n",
    "import numpy as np\n",
    "nltk.download('punkt')\n",
    "from nltk.tokenize import word_tokenize, sent_tokenize\n",
    "# some source for this dic \n",
    "from tensorflow.keras.preprocessing.text import Tokenizer\n",
    "from tensorflow.keras.preprocessing.sequence import pad_sequences\n",
    "from tensorflow.keras.models import Sequential"
   ]
  },
  {
   "cell_type": "code",
   "execution_count": 5,
   "metadata": {},
   "outputs": [],
   "source": [
    "data_train = pd.read_csv('C:/Project/movie_reviews/movie_reviews.csv')\n",
    "data_test = pd.read_csv('C:/Project/movie_reviews/test_data.csv')"
   ]
  },
  {
   "cell_type": "code",
   "execution_count": 6,
   "metadata": {},
   "outputs": [
    {
     "data": {
      "text/plain": [
       "label\n",
       "0    20049\n",
       "1    19951\n",
       "Name: count, dtype: int64"
      ]
     },
     "execution_count": 6,
     "metadata": {},
     "output_type": "execute_result"
    }
   ],
   "source": [
    "data_train['label'].value_counts()"
   ]
  },
  {
   "cell_type": "code",
   "execution_count": 7,
   "metadata": {},
   "outputs": [
    {
     "data": {
      "text/html": [
       "<div>\n",
       "<style scoped>\n",
       "    .dataframe tbody tr th:only-of-type {\n",
       "        vertical-align: middle;\n",
       "    }\n",
       "\n",
       "    .dataframe tbody tr th {\n",
       "        vertical-align: top;\n",
       "    }\n",
       "\n",
       "    .dataframe thead th {\n",
       "        text-align: right;\n",
       "    }\n",
       "</style>\n",
       "<table border=\"1\" class=\"dataframe\">\n",
       "  <thead>\n",
       "    <tr style=\"text-align: right;\">\n",
       "      <th></th>\n",
       "      <th>text</th>\n",
       "      <th>label</th>\n",
       "    </tr>\n",
       "  </thead>\n",
       "  <tbody>\n",
       "    <tr>\n",
       "      <th>0</th>\n",
       "      <td>If you havent seen this movie than you need to...</td>\n",
       "      <td>1</td>\n",
       "    </tr>\n",
       "    <tr>\n",
       "      <th>1</th>\n",
       "      <td>but Cinderella gets my vote not only for the w...</td>\n",
       "      <td>0</td>\n",
       "    </tr>\n",
       "    <tr>\n",
       "      <th>2</th>\n",
       "      <td>This movie is pretty cheesy but I do give it c...</td>\n",
       "      <td>1</td>\n",
       "    </tr>\n",
       "    <tr>\n",
       "      <th>3</th>\n",
       "      <td>I have not seen a Van Damme flick for a while ...</td>\n",
       "      <td>1</td>\n",
       "    </tr>\n",
       "    <tr>\n",
       "      <th>4</th>\n",
       "      <td>This is a sleeper It defines Nicholas Cage The...</td>\n",
       "      <td>1</td>\n",
       "    </tr>\n",
       "    <tr>\n",
       "      <th>...</th>\n",
       "      <td>...</td>\n",
       "      <td>...</td>\n",
       "    </tr>\n",
       "    <tr>\n",
       "      <th>39995</th>\n",
       "      <td>This movie is inspiring to anyone who is or ha...</td>\n",
       "      <td>1</td>\n",
       "    </tr>\n",
       "    <tr>\n",
       "      <th>39996</th>\n",
       "      <td>This film hits the heart with a reality like n...</td>\n",
       "      <td>1</td>\n",
       "    </tr>\n",
       "    <tr>\n",
       "      <th>39997</th>\n",
       "      <td>East Side Story is a documentary of musical co...</td>\n",
       "      <td>1</td>\n",
       "    </tr>\n",
       "    <tr>\n",
       "      <th>39998</th>\n",
       "      <td>And a selfadmitted one to boot At one point th...</td>\n",
       "      <td>0</td>\n",
       "    </tr>\n",
       "    <tr>\n",
       "      <th>39999</th>\n",
       "      <td>This movie had horrible lighting and terrible ...</td>\n",
       "      <td>0</td>\n",
       "    </tr>\n",
       "  </tbody>\n",
       "</table>\n",
       "<p>40000 rows × 2 columns</p>\n",
       "</div>"
      ],
      "text/plain": [
       "                                                    text  label\n",
       "0      If you havent seen this movie than you need to...      1\n",
       "1      but Cinderella gets my vote not only for the w...      0\n",
       "2      This movie is pretty cheesy but I do give it c...      1\n",
       "3      I have not seen a Van Damme flick for a while ...      1\n",
       "4      This is a sleeper It defines Nicholas Cage The...      1\n",
       "...                                                  ...    ...\n",
       "39995  This movie is inspiring to anyone who is or ha...      1\n",
       "39996  This film hits the heart with a reality like n...      1\n",
       "39997  East Side Story is a documentary of musical co...      1\n",
       "39998  And a selfadmitted one to boot At one point th...      0\n",
       "39999  This movie had horrible lighting and terrible ...      0\n",
       "\n",
       "[40000 rows x 2 columns]"
      ]
     },
     "execution_count": 7,
     "metadata": {},
     "output_type": "execute_result"
    }
   ],
   "source": [
    "data_train"
   ]
  },
  {
   "cell_type": "code",
   "execution_count": 8,
   "metadata": {},
   "outputs": [
    {
     "data": {
      "text/plain": [
       "array([1, 0, 1, ..., 1, 0, 0], dtype=int64)"
      ]
     },
     "execution_count": 8,
     "metadata": {},
     "output_type": "execute_result"
    }
   ],
   "source": [
    "sentiment_label = data_train['label'].values\n",
    "sentiment_label\n"
   ]
  },
  {
   "cell_type": "code",
   "execution_count": 9,
   "metadata": {},
   "outputs": [],
   "source": [
    "tweet = data_train.text.values"
   ]
  },
  {
   "cell_type": "code",
   "execution_count": 10,
   "metadata": {},
   "outputs": [
    {
     "data": {
      "text/plain": [
       "array(['If you havent seen this movie than you need to It rocks and you have to watch it It is so funny and will make you laugh your guts out so you have to watch it and i saw it about a billion and a half times and still think it is funny so you have to yes i have memorized the whole movie and could quote it to you from start to finish you must see this move it is also cute because it is half a chick flick if you dont watch it then you are really missing outthis movie even has cute guys in it and that is always a bonus so in summary watch the movie now and trust me you will not be making a mistake did i mention the music is good too So you should like it if you enjoy music This is a movie that they rated correctly and it will work for anyone',\n",
       "       'but Cinderella gets my vote not only for the worst of Disneys princess movies but for the worst movie the company made during Walts lifetime The music is genuinely pretty and the story deserves to be called classic What fails in this movie are the characters particularly the title character who could only be called the heroine in the loosest sense of the term After a brief prologue the audience is introduced to Cinderella She is waking up in the morning and singing A Dream is A wish Your Heart Makes This establishes her as an idealist and thus deserving of our sympathy Unfortunately the script gives us no clue as to what she is dreaming about Freedom from her servant role The respect of her stepfamily Someone to talk to besides mice and birds In one song cut from the movie but presented in the special features section of the latest DVD Cinderella relates her wish that there could be many of her so she could do her work more efficiently You go girlfriend In short Cinderella is a very bland character She passively accepts her stepfamilys abuse escaping into her unspoken dreams for relief She only asserts herself once by reminding her stepmother that she is still a member of the family For this she is given permission to go the ball if she completes her housework and finds something to wear a token gesture that is clearly absurd to everyone except of course Cinderella Can anyone see Belle or Jasmine being such a doormat If Cinderella is dull her male counterpart is nothing short of lifeless The Prince in Cinderella gets no dialog and almost no screen time We are given no indication if he is a good man if he respects Cinderella or anything All we know is 1 he is a prince and 2 he dances well Heck even the prince from Snow White got to sing a romantic song at least Not only does this lack of development make the romance less interesting it makes Cinderella look like either a social climber or an idiot weakening her already tenuous appeal Perhaps realizing how dull the main characters were the animators chose to give excessive screen time to the movies comic relief Cinderellas friends the mice Granted these characters are amusing Even so when the comic relief steals the show from the principals well lets just say your story has some problems Dinsey loves to proclaim all its animated features as masterpieces While many of them are there are some that do not deserve this appellate in any way Cinderella is a prime example of this fact',\n",
       "       'This movie is pretty cheesy but I do give it credit for at least trying to provide some characterization for its principles There are some great moments in the film and the dialogue has some great moments as well The aerial assault sequence is perhaps the best part of the movie I guess I really like the idea of what lengths a veteran will go for a fellow veteran Sure its not all that well done but the premise is not at all bad Tom',\n",
       "       ...,\n",
       "       'East Side Story is a documentary of musical comedy in Stalinist Russia and later in the eastern European satellite comedies with many clips from the films and commentary from the survivors Although some of the Stalinist films look laughingly bad The Bright Road  being a notable exception the films from the sixties actually look pretty good My Wife Wants to Sing The White Mouse and Midnight Revue look particularly entertaining The producers had to contend with the censors who had the power to decide what was politically correct which led to some confusion humorous in retrospect since the people whom the censors were trying to appease were the very people who supported making the films to begin with Since musical comedies were fairly rare behind the Iron Curtainthere were only something like forty made in forty yearsthey had a disproportionate effect upon their audiences who made major hits of some of the films I notice that the sound for the sixties films was much better The directors often had to make do with antiquated equipment and stringent power regulationsthey had to film in seven minute takes or lessand dangerous officicrats I also notice that West Side Story seems to have had a strong influence on Hot Summer The later films may not measure up to Singin in the Rain but they certainly look like they beat the hell out of Bye Bye Birdy',\n",
       "       'And a selfadmitted one to boot At one point the doctors assistant refers to himself as Igor Working with the increasingly plausible idea that computers could be used to replace or reconstruct brain functions this movie doesnt spend enough time exploring the premise Most of the screen time is split between girlfriendinacoma domestic strife and chasing down the brain donors killer It attempts to be a scifidramathriller but fails to deliver on any of the three As a Frankenstein remake this one is missing everything that made the original good Nobody calls the doctor insane or even threatens to kick him out of the hospital The transformation scene consists of a coma victim opening one eye and the amazing computer that makes it happen isnt even shown When the experiment works there is no praise and when it starts going wrong there is little reaction Any suspense over who the killer might be is shattered by progressively showing him in the same room with all of the possible suspects Finding the killer is as easy as opening one file and interviewing one person San Francisco as a setting is both overplayed and underused The opening sequence hammers home the point that this is happening in SF a cable car plays a significant role the leads live in a hilltop Victorian Pier 39 makes an appearance and the final showdown happens at Golden Gate Park More specifically along ten feet of cliff side at the park  just enough to keep the bridge in the picture at all times Once the obvious scenery bases are rounded no other attempt is made to explore the city The acting is the only saving grace here Keir Dullea shows a good range and pulls off a couple of genuinely emotional scenes Suzanna Love portrays recovery from a coma well Tony Curtis only gets a handful of lines and twice as many evil guy stares with most of the Frankenscience explained away by his assistant The little blond kid hits his cues fairly well also I also gave it one extra star for the scene where the husband drives south from the bridge it cuts to a Uturn in an unrelated parking lot and then hes instantly back on the bridge driving north It takes a whole lot of something  bravery ignorance deadlines  to try and slip that one by the viewer during the one single car chase',\n",
       "       'This movie had horrible lighting and terrible camera movements This movie is a jumpy horror flick with no meaning at all The slashes are totally fake looking It looks like some 17 yearold idiot wrote this movie and a 10 year old kid shot it With the worst acting you can ever find People are tired of knives At least move on to guns or fire It has almost exact lines from When A Stranger Calls With gruesome killings only crazy people would enjoy this movie It is obvious the writer doesnt have kids or even care for them I mean at show some mercy Just to sum it up this movie is a B movie and it sucked Just for your own sake dont even think about wasting your time watching this crappy movie'],\n",
       "      dtype=object)"
      ]
     },
     "execution_count": 10,
     "metadata": {},
     "output_type": "execute_result"
    }
   ],
   "source": [
    "tweet"
   ]
  },
  {
   "cell_type": "code",
   "execution_count": 11,
   "metadata": {},
   "outputs": [],
   "source": [
    "from tensorflow.keras.preprocessing.text import Tokenizer\n",
    "\n",
    "tokenizer = Tokenizer(num_words=5000)\n",
    "\n",
    "tokenizer.fit_on_texts(tweet)\n"
   ]
  },
  {
   "cell_type": "code",
   "execution_count": 12,
   "metadata": {},
   "outputs": [],
   "source": [
    "encoded_docs = tokenizer.texts_to_sequences(tweet)"
   ]
  },
  {
   "cell_type": "code",
   "execution_count": 13,
   "metadata": {},
   "outputs": [],
   "source": [
    "from tensorflow.keras.preprocessing.sequence import pad_sequences\n",
    "\n",
    "padded_sequence = pad_sequences(encoded_docs, maxlen=200)"
   ]
  },
  {
   "cell_type": "code",
   "execution_count": 14,
   "metadata": {},
   "outputs": [
    {
     "data": {
      "text/plain": [
       "array([[   0,    0,    0, ...,  158,   14,  240],\n",
       "       [   5,  137,    1, ...,    4,   10,  188],\n",
       "       [   0,    0,    0, ...,   30,   78,  828],\n",
       "       ...,\n",
       "       [ 214,    7, 3673, ...,  523,   43,    4],\n",
       "       [  13,  606,   27, ...,  700,  513, 1284],\n",
       "       [   0,    0,    0, ...,   10, 1810,   16]])"
      ]
     },
     "execution_count": 14,
     "metadata": {},
     "output_type": "execute_result"
    }
   ],
   "source": [
    "padded_sequence"
   ]
  },
  {
   "cell_type": "code",
   "execution_count": 15,
   "metadata": {},
   "outputs": [
    {
     "name": "stdout",
     "output_type": "stream",
     "text": [
      "WARNING:tensorflow:From c:\\Users\\mayti\\AppData\\Local\\Programs\\Python\\Python311\\Lib\\site-packages\\keras\\src\\backend.py:873: The name tf.get_default_graph is deprecated. Please use tf.compat.v1.get_default_graph instead.\n",
      "\n",
      "WARNING:tensorflow:From c:\\Users\\mayti\\AppData\\Local\\Programs\\Python\\Python311\\Lib\\site-packages\\keras\\src\\optimizers\\__init__.py:309: The name tf.train.Optimizer is deprecated. Please use tf.compat.v1.train.Optimizer instead.\n",
      "\n",
      "Model: \"sequential\"\n",
      "_________________________________________________________________\n",
      " Layer (type)                Output Shape              Param #   \n",
      "=================================================================\n",
      " embedding (Embedding)       (None, 200, 32)           160000    \n",
      "                                                                 \n",
      " spatial_dropout1d (Spatial  (None, 200, 32)           0         \n",
      " Dropout1D)                                                      \n",
      "                                                                 \n",
      " lstm (LSTM)                 (None, 50)                16600     \n",
      "                                                                 \n",
      " dropout (Dropout)           (None, 50)                0         \n",
      "                                                                 \n",
      " dense (Dense)               (None, 1)                 51        \n",
      "                                                                 \n",
      "=================================================================\n",
      "Total params: 176651 (690.04 KB)\n",
      "Trainable params: 176651 (690.04 KB)\n",
      "Non-trainable params: 0 (0.00 Byte)\n",
      "_________________________________________________________________\n",
      "None\n"
     ]
    }
   ],
   "source": [
    "from tensorflow.keras.models import Sequential\n",
    "from tensorflow.keras.layers import LSTM,Dense, Dropout, SpatialDropout1D\n",
    "from tensorflow.keras.layers import Embedding\n",
    "\n",
    "vocab_size = 5000\n",
    "\n",
    "embedding_vector_length = 32\n",
    "model = Sequential()\n",
    "model.add(Embedding(vocab_size, embedding_vector_length, input_length=200))\n",
    "model.add(SpatialDropout1D(0.25))\n",
    "model.add(LSTM(50, dropout=0.5, recurrent_dropout=0.5))\n",
    "model.add(Dropout(0.2))\n",
    "model.add(Dense(1, activation='sigmoid'))\n",
    "model.compile(loss='binary_crossentropy',optimizer='adam', metrics=['accuracy'])\n",
    "\n",
    "print(model.summary())"
   ]
  },
  {
   "cell_type": "code",
   "execution_count": 16,
   "metadata": {},
   "outputs": [
    {
     "name": "stdout",
     "output_type": "stream",
     "text": [
      "Epoch 1/5\n",
      "WARNING:tensorflow:From c:\\Users\\mayti\\AppData\\Local\\Programs\\Python\\Python311\\Lib\\site-packages\\keras\\src\\utils\\tf_utils.py:492: The name tf.ragged.RaggedTensorValue is deprecated. Please use tf.compat.v1.ragged.RaggedTensorValue instead.\n",
      "\n",
      "WARNING:tensorflow:From c:\\Users\\mayti\\AppData\\Local\\Programs\\Python\\Python311\\Lib\\site-packages\\keras\\src\\engine\\base_layer_utils.py:384: The name tf.executing_eagerly_outside_functions is deprecated. Please use tf.compat.v1.executing_eagerly_outside_functions instead.\n",
      "\n",
      "1000/1000 [==============================] - 169s 167ms/step - loss: 0.4419 - accuracy: 0.7928 - val_loss: 0.2915 - val_accuracy: 0.8845\n",
      "Epoch 2/5\n",
      "1000/1000 [==============================] - 86s 86ms/step - loss: 0.3004 - accuracy: 0.8778 - val_loss: 0.3281 - val_accuracy: 0.8640\n",
      "Epoch 3/5\n",
      "1000/1000 [==============================] - 82s 82ms/step - loss: 0.2738 - accuracy: 0.8911 - val_loss: 0.2844 - val_accuracy: 0.8820\n",
      "Epoch 4/5\n",
      "1000/1000 [==============================] - 107s 107ms/step - loss: 0.2504 - accuracy: 0.9006 - val_loss: 0.3437 - val_accuracy: 0.8767\n",
      "Epoch 5/5\n",
      "1000/1000 [==============================] - 79s 79ms/step - loss: 0.2353 - accuracy: 0.9076 - val_loss: 0.3112 - val_accuracy: 0.8820\n"
     ]
    }
   ],
   "source": [
    "history = model.fit(padded_sequence,sentiment_label,validation_split=0.2, epochs=5, batch_size=32)"
   ]
  },
  {
   "cell_type": "code",
   "execution_count": 17,
   "metadata": {},
   "outputs": [
    {
     "name": "stdout",
     "output_type": "stream",
     "text": [
      "1/1 [==============================] - 0s 452ms/step\n",
      "Predicted label:  1\n",
      "1/1 [==============================] - 0s 52ms/step\n",
      "Predicted label:  0\n"
     ]
    },
    {
     "data": {
      "text/plain": [
       "0"
      ]
     },
     "execution_count": 17,
     "metadata": {},
     "output_type": "execute_result"
    }
   ],
   "source": [
    "def predict_sentiment(text):\n",
    "    tw = tokenizer.texts_to_sequences([text])\n",
    "    tw = pad_sequences(tw,maxlen=200)\n",
    "    prediction = int(model.predict(tw).round().item())\n",
    "    print(\"Predicted label: \", abs(sentiment_label[prediction] - 1))\n",
    "    return abs(sentiment_label[prediction] - 1)\n",
    "\n",
    "\n",
    "test_sentence1 = \"I enjoyed my journey on this flight.\"\n",
    "predict_sentiment(test_sentence1)\n",
    "\n",
    "test_sentence2 = \"This is the worst flight experience of my life!\"\n",
    "predict_sentiment(test_sentence2)"
   ]
  },
  {
   "cell_type": "code",
   "execution_count": 18,
   "metadata": {},
   "outputs": [
    {
     "data": {
      "text/html": [
       "<div>\n",
       "<style scoped>\n",
       "    .dataframe tbody tr th:only-of-type {\n",
       "        vertical-align: middle;\n",
       "    }\n",
       "\n",
       "    .dataframe tbody tr th {\n",
       "        vertical-align: top;\n",
       "    }\n",
       "\n",
       "    .dataframe thead th {\n",
       "        text-align: right;\n",
       "    }\n",
       "</style>\n",
       "<table border=\"1\" class=\"dataframe\">\n",
       "  <thead>\n",
       "    <tr style=\"text-align: right;\">\n",
       "      <th></th>\n",
       "      <th>Id</th>\n",
       "      <th>text</th>\n",
       "    </tr>\n",
       "  </thead>\n",
       "  <tbody>\n",
       "    <tr>\n",
       "      <th>0</th>\n",
       "      <td>0</td>\n",
       "      <td>What can possibly said about this movie other ...</td>\n",
       "    </tr>\n",
       "    <tr>\n",
       "      <th>1</th>\n",
       "      <td>1</td>\n",
       "      <td>I dont care how many bad reviews purple rain g...</td>\n",
       "    </tr>\n",
       "    <tr>\n",
       "      <th>2</th>\n",
       "      <td>2</td>\n",
       "      <td>Ken Russell directed this weird  Not very  ero...</td>\n",
       "    </tr>\n",
       "    <tr>\n",
       "      <th>3</th>\n",
       "      <td>3</td>\n",
       "      <td>This is a great movie from the lost age of rea...</td>\n",
       "    </tr>\n",
       "    <tr>\n",
       "      <th>4</th>\n",
       "      <td>4</td>\n",
       "      <td>I have a problem with the movie snobs who cons...</td>\n",
       "    </tr>\n",
       "  </tbody>\n",
       "</table>\n",
       "</div>"
      ],
      "text/plain": [
       "   Id                                               text\n",
       "0   0  What can possibly said about this movie other ...\n",
       "1   1  I dont care how many bad reviews purple rain g...\n",
       "2   2  Ken Russell directed this weird  Not very  ero...\n",
       "3   3  This is a great movie from the lost age of rea...\n",
       "4   4  I have a problem with the movie snobs who cons..."
      ]
     },
     "execution_count": 18,
     "metadata": {},
     "output_type": "execute_result"
    }
   ],
   "source": [
    "data_test.head(5)"
   ]
  },
  {
   "cell_type": "code",
   "execution_count": 19,
   "metadata": {},
   "outputs": [],
   "source": [
    "submission = data_test.copy()"
   ]
  },
  {
   "cell_type": "code",
   "execution_count": 20,
   "metadata": {},
   "outputs": [],
   "source": [
    "#data_test['Predicted_Sentiment'] = data_test['text'].apply(predict_sentiment)"
   ]
  },
  {
   "cell_type": "code",
   "execution_count": 21,
   "metadata": {},
   "outputs": [
    {
     "data": {
      "text/html": [
       "<div>\n",
       "<style scoped>\n",
       "    .dataframe tbody tr th:only-of-type {\n",
       "        vertical-align: middle;\n",
       "    }\n",
       "\n",
       "    .dataframe tbody tr th {\n",
       "        vertical-align: top;\n",
       "    }\n",
       "\n",
       "    .dataframe thead th {\n",
       "        text-align: right;\n",
       "    }\n",
       "</style>\n",
       "<table border=\"1\" class=\"dataframe\">\n",
       "  <thead>\n",
       "    <tr style=\"text-align: right;\">\n",
       "      <th></th>\n",
       "      <th>Id</th>\n",
       "    </tr>\n",
       "  </thead>\n",
       "  <tbody>\n",
       "    <tr>\n",
       "      <th>0</th>\n",
       "      <td>0</td>\n",
       "    </tr>\n",
       "    <tr>\n",
       "      <th>1</th>\n",
       "      <td>1</td>\n",
       "    </tr>\n",
       "    <tr>\n",
       "      <th>2</th>\n",
       "      <td>2</td>\n",
       "    </tr>\n",
       "    <tr>\n",
       "      <th>3</th>\n",
       "      <td>3</td>\n",
       "    </tr>\n",
       "    <tr>\n",
       "      <th>4</th>\n",
       "      <td>4</td>\n",
       "    </tr>\n",
       "    <tr>\n",
       "      <th>...</th>\n",
       "      <td>...</td>\n",
       "    </tr>\n",
       "    <tr>\n",
       "      <th>9995</th>\n",
       "      <td>9995</td>\n",
       "    </tr>\n",
       "    <tr>\n",
       "      <th>9996</th>\n",
       "      <td>9996</td>\n",
       "    </tr>\n",
       "    <tr>\n",
       "      <th>9997</th>\n",
       "      <td>9997</td>\n",
       "    </tr>\n",
       "    <tr>\n",
       "      <th>9998</th>\n",
       "      <td>9998</td>\n",
       "    </tr>\n",
       "    <tr>\n",
       "      <th>9999</th>\n",
       "      <td>9999</td>\n",
       "    </tr>\n",
       "  </tbody>\n",
       "</table>\n",
       "<p>10000 rows × 1 columns</p>\n",
       "</div>"
      ],
      "text/plain": [
       "        Id\n",
       "0        0\n",
       "1        1\n",
       "2        2\n",
       "3        3\n",
       "4        4\n",
       "...    ...\n",
       "9995  9995\n",
       "9996  9996\n",
       "9997  9997\n",
       "9998  9998\n",
       "9999  9999\n",
       "\n",
       "[10000 rows x 1 columns]"
      ]
     },
     "execution_count": 21,
     "metadata": {},
     "output_type": "execute_result"
    }
   ],
   "source": [
    "submission = submission.drop(['text'], axis=1)\n",
    "submission"
   ]
  },
  {
   "cell_type": "code",
   "execution_count": 22,
   "metadata": {},
   "outputs": [],
   "source": [
    "# submission.to_csv('submission.csv', header=['Id', 'Category'], index=None)"
   ]
  }
 ],
 "metadata": {
  "kernelspec": {
   "display_name": "Python 3",
   "language": "python",
   "name": "python3"
  },
  "language_info": {
   "codemirror_mode": {
    "name": "ipython",
    "version": 3
   },
   "file_extension": ".py",
   "mimetype": "text/x-python",
   "name": "python",
   "nbconvert_exporter": "python",
   "pygments_lexer": "ipython3",
   "version": "3.11.4"
  }
 },
 "nbformat": 4,
 "nbformat_minor": 2
}
